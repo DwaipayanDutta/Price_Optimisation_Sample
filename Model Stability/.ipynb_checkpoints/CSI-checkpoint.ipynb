{
 "cells": [
  {
   "cell_type": "code",
   "execution_count": 1,
   "id": "e45e5808-2c94-4c41-8c86-bbc29e62a124",
   "metadata": {
    "tags": []
   },
   "outputs": [],
   "source": [
    "import numpy as np\n",
    "import pandas as pd\n",
    "import matplotlib.pyplot as plt\n",
    "import seaborn as sns\n",
    "# Data prep\n",
    "from sklearn.model_selection import train_test_split\n",
    "# Regression\n",
    "from sklearn.linear_model import ElasticNet\n",
    "# Classification\n",
    "from sklearn.naive_bayes import GaussianNB\n",
    "from sklearn.ensemble import RandomForestClassifier\n",
    "from xgboost import XGBClassifier\n",
    "from sklearn.linear_model import LogisticRegression"
   ]
  },
  {
   "cell_type": "code",
   "execution_count": 2,
   "id": "844171a0-3ca6-452e-846b-7c926eca95a2",
   "metadata": {
    "tags": []
   },
   "outputs": [],
   "source": [
    "def psi(score_initial, score_new, num_bins = 10, mode = 'fixed'):\n",
    "    \n",
    "    eps = 1e-4\n",
    "    \n",
    "    # Sort the data\n",
    "    score_initial.sort()\n",
    "    score_new.sort()\n",
    "    \n",
    "    # Prepare the bins\n",
    "    min_val = min(min(score_initial), min(score_new))\n",
    "    max_val = max(max(score_initial), max(score_new))\n",
    "    if mode == 'fixed':\n",
    "        bins = [min_val + (max_val - min_val)*(i)/num_bins for i in range(num_bins+1)]\n",
    "    elif mode == 'quantile':\n",
    "        bins = pd.qcut(score_initial, q = num_bins, retbins = True)[1] # Create the quantiles based on the initial population\n",
    "    else:\n",
    "        raise ValueError(f\"Mode \\'{mode}\\' not recognized. Your options are \\'fixed\\' and \\'quantile\\'\")\n",
    "    bins[0] = min_val - eps # Correct the lower boundary\n",
    "    bins[-1] = max_val + eps # Correct the higher boundary\n",
    "        \n",
    "        \n",
    "    # Bucketize the initial population and count the sample inside each bucket\n",
    "    bins_initial = pd.cut(score_initial, bins = bins, labels = range(1,num_bins+1))\n",
    "    df_initial = pd.DataFrame({'initial': score_initial, 'bin': bins_initial})\n",
    "    grp_initial = df_initial.groupby('bin').count()\n",
    "    grp_initial['percent_initial'] = grp_initial['initial'] / sum(grp_initial['initial'])\n",
    "    \n",
    "    # Bucketize the new population and count the sample inside each bucket\n",
    "    bins_new = pd.cut(score_new, bins = bins, labels = range(1,num_bins+1))\n",
    "    df_new = pd.DataFrame({'new': score_new, 'bin': bins_new})\n",
    "    grp_new = df_new.groupby('bin').count()\n",
    "    grp_new['percent_new'] = grp_new['new'] / sum(grp_new['new'])\n",
    "    \n",
    "    # Compare the bins to calculate PSI\n",
    "    psi_df = grp_initial.join(grp_new, on = \"bin\", how = \"inner\")\n",
    "    \n",
    "    # Add a small value for when the percent is zero\n",
    "    psi_df['percent_initial'] = psi_df['percent_initial'].apply(lambda x: eps if x == 0 else x)\n",
    "    psi_df['percent_new'] = psi_df['percent_new'].apply(lambda x: eps if x == 0 else x)\n",
    "    \n",
    "    # Calculate the psi\n",
    "    psi_df['psi'] = (psi_df['percent_initial'] - psi_df['percent_new']) * np.log(psi_df['percent_initial'] / psi_df['percent_new'])\n",
    "    \n",
    "    # Return the psi values\n",
    "    return psi_df['psi'].values"
   ]
  },
  {
   "cell_type": "markdown",
   "id": "c5e38bf8-a44f-4d2d-bffd-0f10d3a93dda",
   "metadata": {},
   "source": [
    "Now that we know that the population has shifted, we now need to know which features contributed to this shift.\n",
    "\n",
    "CSI is basically applying PSI to each feature to see how much it has shifted"
   ]
  },
  {
   "cell_type": "markdown",
   "id": "01fac1cc-5f20-4bd4-9da3-9fc04cb361fe",
   "metadata": {
    "tags": []
   },
   "source": [
    "### Load Synthetic Dataset"
   ]
  },
  {
   "cell_type": "code",
   "execution_count": 3,
   "id": "850b8e89-76c4-4a26-a761-8738749da069",
   "metadata": {},
   "outputs": [],
   "source": [
    "df_test = pd.read_csv(\"data_test_regression.csv\", sep = \";\")"
   ]
  },
  {
   "cell_type": "code",
   "execution_count": 4,
   "id": "44cbd56e-94c2-4a88-946d-2afd1173413f",
   "metadata": {
    "tags": []
   },
   "outputs": [
    {
     "data": {
      "text/html": [
       "<div>\n",
       "<style scoped>\n",
       "    .dataframe tbody tr th:only-of-type {\n",
       "        vertical-align: middle;\n",
       "    }\n",
       "\n",
       "    .dataframe tbody tr th {\n",
       "        vertical-align: top;\n",
       "    }\n",
       "\n",
       "    .dataframe thead th {\n",
       "        text-align: right;\n",
       "    }\n",
       "</style>\n",
       "<table border=\"1\" class=\"dataframe\">\n",
       "  <thead>\n",
       "    <tr style=\"text-align: right;\">\n",
       "      <th></th>\n",
       "      <th>x1</th>\n",
       "      <th>x2</th>\n",
       "      <th>x3</th>\n",
       "      <th>y</th>\n",
       "      <th>pred</th>\n",
       "    </tr>\n",
       "  </thead>\n",
       "  <tbody>\n",
       "    <tr>\n",
       "      <th>0</th>\n",
       "      <td>1.292155</td>\n",
       "      <td>1.238676</td>\n",
       "      <td>4.440749</td>\n",
       "      <td>14.996278</td>\n",
       "      <td>7.029040</td>\n",
       "    </tr>\n",
       "    <tr>\n",
       "      <th>1</th>\n",
       "      <td>1.843959</td>\n",
       "      <td>3.286081</td>\n",
       "      <td>7.546199</td>\n",
       "      <td>28.766137</td>\n",
       "      <td>7.235099</td>\n",
       "    </tr>\n",
       "    <tr>\n",
       "      <th>2</th>\n",
       "      <td>-3.006904</td>\n",
       "      <td>2.972508</td>\n",
       "      <td>6.445045</td>\n",
       "      <td>34.489508</td>\n",
       "      <td>8.006933</td>\n",
       "    </tr>\n",
       "    <tr>\n",
       "      <th>3</th>\n",
       "      <td>0.884088</td>\n",
       "      <td>1.212694</td>\n",
       "      <td>6.734480</td>\n",
       "      <td>21.965838</td>\n",
       "      <td>8.189244</td>\n",
       "    </tr>\n",
       "    <tr>\n",
       "      <th>4</th>\n",
       "      <td>1.009362</td>\n",
       "      <td>3.980044</td>\n",
       "      <td>2.753569</td>\n",
       "      <td>19.587612</td>\n",
       "      <td>9.247670</td>\n",
       "    </tr>\n",
       "  </tbody>\n",
       "</table>\n",
       "</div>"
      ],
      "text/plain": [
       "         x1        x2        x3          y      pred\n",
       "0  1.292155  1.238676  4.440749  14.996278  7.029040\n",
       "1  1.843959  3.286081  7.546199  28.766137  7.235099\n",
       "2 -3.006904  2.972508  6.445045  34.489508  8.006933\n",
       "3  0.884088  1.212694  6.734480  21.965838  8.189244\n",
       "4  1.009362  3.980044  2.753569  19.587612  9.247670"
      ]
     },
     "execution_count": 4,
     "metadata": {},
     "output_type": "execute_result"
    }
   ],
   "source": [
    "df_test.head()"
   ]
  },
  {
   "cell_type": "code",
   "execution_count": 5,
   "id": "0fa445a2-945d-4969-bca8-ded3d9f9a267",
   "metadata": {
    "tags": []
   },
   "outputs": [],
   "source": [
    "Z = pd.read_csv(\"Z_regression.csv\", sep = \";\")"
   ]
  },
  {
   "cell_type": "code",
   "execution_count": 6,
   "id": "a96da29e-2bfe-4083-bebb-99670feb5bcc",
   "metadata": {
    "tags": []
   },
   "outputs": [
    {
     "data": {
      "text/html": [
       "<div>\n",
       "<style scoped>\n",
       "    .dataframe tbody tr th:only-of-type {\n",
       "        vertical-align: middle;\n",
       "    }\n",
       "\n",
       "    .dataframe tbody tr th {\n",
       "        vertical-align: top;\n",
       "    }\n",
       "\n",
       "    .dataframe thead th {\n",
       "        text-align: right;\n",
       "    }\n",
       "</style>\n",
       "<table border=\"1\" class=\"dataframe\">\n",
       "  <thead>\n",
       "    <tr style=\"text-align: right;\">\n",
       "      <th></th>\n",
       "      <th>x1</th>\n",
       "      <th>x2</th>\n",
       "      <th>x3</th>\n",
       "      <th>pred</th>\n",
       "    </tr>\n",
       "  </thead>\n",
       "  <tbody>\n",
       "    <tr>\n",
       "      <th>0</th>\n",
       "      <td>-1.505888</td>\n",
       "      <td>3.164592</td>\n",
       "      <td>3.976233</td>\n",
       "      <td>3.456376</td>\n",
       "    </tr>\n",
       "    <tr>\n",
       "      <th>1</th>\n",
       "      <td>0.621893</td>\n",
       "      <td>3.750874</td>\n",
       "      <td>6.396892</td>\n",
       "      <td>3.573458</td>\n",
       "    </tr>\n",
       "    <tr>\n",
       "      <th>2</th>\n",
       "      <td>3.437573</td>\n",
       "      <td>4.605822</td>\n",
       "      <td>9.917134</td>\n",
       "      <td>7.503598</td>\n",
       "    </tr>\n",
       "    <tr>\n",
       "      <th>3</th>\n",
       "      <td>-2.361256</td>\n",
       "      <td>3.839147</td>\n",
       "      <td>5.481190</td>\n",
       "      <td>8.344179</td>\n",
       "    </tr>\n",
       "    <tr>\n",
       "      <th>4</th>\n",
       "      <td>-0.084735</td>\n",
       "      <td>3.285693</td>\n",
       "      <td>6.135092</td>\n",
       "      <td>8.425915</td>\n",
       "    </tr>\n",
       "  </tbody>\n",
       "</table>\n",
       "</div>"
      ],
      "text/plain": [
       "         x1        x2        x3      pred\n",
       "0 -1.505888  3.164592  3.976233  3.456376\n",
       "1  0.621893  3.750874  6.396892  3.573458\n",
       "2  3.437573  4.605822  9.917134  7.503598\n",
       "3 -2.361256  3.839147  5.481190  8.344179\n",
       "4 -0.084735  3.285693  6.135092  8.425915"
      ]
     },
     "execution_count": 6,
     "metadata": {},
     "output_type": "execute_result"
    }
   ],
   "source": [
    "Z.head()"
   ]
  },
  {
   "cell_type": "markdown",
   "id": "4b19dc2f-b595-4630-9e77-64f464edc206",
   "metadata": {},
   "source": [
    "### Calculates CSI for each feature"
   ]
  },
  {
   "cell_type": "code",
   "execution_count": 7,
   "id": "d03e7ef9-3122-461c-9cb3-cd5d04839d78",
   "metadata": {},
   "outputs": [],
   "source": [
    "sample_initial = df_test[['x1', 'x2', 'x3']]\n",
    "sample_new = Z[['x1', 'x2', 'x3']]"
   ]
  },
  {
   "cell_type": "code",
   "execution_count": 8,
   "id": "a81efcaa-6f00-44f7-92aa-81c6be8b95a6",
   "metadata": {
    "tags": []
   },
   "outputs": [
    {
     "name": "stdout",
     "output_type": "stream",
     "text": [
      "CSI - Fixed size bins\n",
      "x1 -> csi=0.0008\n",
      "x2 -> csi=0.0444\n",
      "x3 -> csi=0.1663\n",
      "\n",
      "CSI - Quantile bins\n",
      "x1 -> csi=0.0014\n",
      "x2 -> csi=0.0474\n",
      "x3 -> csi=0.1296\n"
     ]
    },
    {
     "name": "stderr",
     "output_type": "stream",
     "text": [
      "C:\\Users\\dwaip\\AppData\\Local\\Temp\\ipykernel_18084\\61413233.py:25: FutureWarning: The default of observed=False is deprecated and will be changed to True in a future version of pandas. Pass observed=False to retain current behavior or observed=True to adopt the future default and silence this warning.\n",
      "  grp_initial = df_initial.groupby('bin').count()\n",
      "C:\\Users\\dwaip\\AppData\\Local\\Temp\\ipykernel_18084\\61413233.py:31: FutureWarning: The default of observed=False is deprecated and will be changed to True in a future version of pandas. Pass observed=False to retain current behavior or observed=True to adopt the future default and silence this warning.\n",
      "  grp_new = df_new.groupby('bin').count()\n",
      "C:\\Users\\dwaip\\AppData\\Local\\Temp\\ipykernel_18084\\61413233.py:25: FutureWarning: The default of observed=False is deprecated and will be changed to True in a future version of pandas. Pass observed=False to retain current behavior or observed=True to adopt the future default and silence this warning.\n",
      "  grp_initial = df_initial.groupby('bin').count()\n",
      "C:\\Users\\dwaip\\AppData\\Local\\Temp\\ipykernel_18084\\61413233.py:31: FutureWarning: The default of observed=False is deprecated and will be changed to True in a future version of pandas. Pass observed=False to retain current behavior or observed=True to adopt the future default and silence this warning.\n",
      "  grp_new = df_new.groupby('bin').count()\n",
      "C:\\Users\\dwaip\\AppData\\Local\\Temp\\ipykernel_18084\\61413233.py:25: FutureWarning: The default of observed=False is deprecated and will be changed to True in a future version of pandas. Pass observed=False to retain current behavior or observed=True to adopt the future default and silence this warning.\n",
      "  grp_initial = df_initial.groupby('bin').count()\n",
      "C:\\Users\\dwaip\\AppData\\Local\\Temp\\ipykernel_18084\\61413233.py:31: FutureWarning: The default of observed=False is deprecated and will be changed to True in a future version of pandas. Pass observed=False to retain current behavior or observed=True to adopt the future default and silence this warning.\n",
      "  grp_new = df_new.groupby('bin').count()\n",
      "C:\\Users\\dwaip\\AppData\\Local\\Temp\\ipykernel_18084\\61413233.py:25: FutureWarning: The default of observed=False is deprecated and will be changed to True in a future version of pandas. Pass observed=False to retain current behavior or observed=True to adopt the future default and silence this warning.\n",
      "  grp_initial = df_initial.groupby('bin').count()\n",
      "C:\\Users\\dwaip\\AppData\\Local\\Temp\\ipykernel_18084\\61413233.py:31: FutureWarning: The default of observed=False is deprecated and will be changed to True in a future version of pandas. Pass observed=False to retain current behavior or observed=True to adopt the future default and silence this warning.\n",
      "  grp_new = df_new.groupby('bin').count()\n",
      "C:\\Users\\dwaip\\AppData\\Local\\Temp\\ipykernel_18084\\61413233.py:25: FutureWarning: The default of observed=False is deprecated and will be changed to True in a future version of pandas. Pass observed=False to retain current behavior or observed=True to adopt the future default and silence this warning.\n",
      "  grp_initial = df_initial.groupby('bin').count()\n",
      "C:\\Users\\dwaip\\AppData\\Local\\Temp\\ipykernel_18084\\61413233.py:31: FutureWarning: The default of observed=False is deprecated and will be changed to True in a future version of pandas. Pass observed=False to retain current behavior or observed=True to adopt the future default and silence this warning.\n",
      "  grp_new = df_new.groupby('bin').count()\n",
      "C:\\Users\\dwaip\\AppData\\Local\\Temp\\ipykernel_18084\\61413233.py:25: FutureWarning: The default of observed=False is deprecated and will be changed to True in a future version of pandas. Pass observed=False to retain current behavior or observed=True to adopt the future default and silence this warning.\n",
      "  grp_initial = df_initial.groupby('bin').count()\n",
      "C:\\Users\\dwaip\\AppData\\Local\\Temp\\ipykernel_18084\\61413233.py:31: FutureWarning: The default of observed=False is deprecated and will be changed to True in a future version of pandas. Pass observed=False to retain current behavior or observed=True to adopt the future default and silence this warning.\n",
      "  grp_new = df_new.groupby('bin').count()\n"
     ]
    }
   ],
   "source": [
    "# Fixed\n",
    "print(\"CSI - Fixed size bins\")\n",
    "for col in sample_initial.columns:\n",
    "    csi_values = psi(sample_initial[col].values, sample_new[col].values, mode = 'fixed')\n",
    "    csi = np.mean(csi_values)\n",
    "    print(f'{col} -> {csi=:.4f}')\n",
    "\n",
    "# Quantile\n",
    "print(\"\\nCSI - Quantile bins\")\n",
    "for col in sample_initial.columns:\n",
    "    csi_values = psi(sample_initial[col].values, sample_new[col].values, mode = 'quantile')\n",
    "    csi = np.mean(csi_values)\n",
    "    print(f'{col} -> {csi=:.4f}')"
   ]
  },
  {
   "cell_type": "markdown",
   "id": "93343ce8-ca1c-494a-a7f5-58920843dac1",
   "metadata": {},
   "source": [
    "Now that we know that the population has shifted, we now need to know which features contributed to this shift.\n",
    "\n",
    "CSI is basically applying PSI to each feature to see how much it has shifted"
   ]
  },
  {
   "cell_type": "markdown",
   "id": "7dab7a3f-ba44-4fea-aeaa-79d8a003e79b",
   "metadata": {
    "tags": []
   },
   "source": [
    "### Load Synthetic Dataset"
   ]
  },
  {
   "cell_type": "code",
   "execution_count": 9,
   "id": "0093de69-63a9-4eef-b8c4-003a84ef9b00",
   "metadata": {},
   "outputs": [],
   "source": [
    "df_test = pd.read_csv(\"data_test_classification.csv\", sep = \";\")"
   ]
  },
  {
   "cell_type": "code",
   "execution_count": 10,
   "id": "cb5038cb-4971-4e49-8f50-c8a42952a713",
   "metadata": {
    "tags": []
   },
   "outputs": [
    {
     "data": {
      "text/html": [
       "<div>\n",
       "<style scoped>\n",
       "    .dataframe tbody tr th:only-of-type {\n",
       "        vertical-align: middle;\n",
       "    }\n",
       "\n",
       "    .dataframe tbody tr th {\n",
       "        vertical-align: top;\n",
       "    }\n",
       "\n",
       "    .dataframe thead th {\n",
       "        text-align: right;\n",
       "    }\n",
       "</style>\n",
       "<table border=\"1\" class=\"dataframe\">\n",
       "  <thead>\n",
       "    <tr style=\"text-align: right;\">\n",
       "      <th></th>\n",
       "      <th>x1</th>\n",
       "      <th>x2</th>\n",
       "      <th>x3</th>\n",
       "      <th>y</th>\n",
       "      <th>pred</th>\n",
       "      <th>proba</th>\n",
       "    </tr>\n",
       "  </thead>\n",
       "  <tbody>\n",
       "    <tr>\n",
       "      <th>0</th>\n",
       "      <td>-1.999720</td>\n",
       "      <td>3.719734</td>\n",
       "      <td>4.617562</td>\n",
       "      <td>1</td>\n",
       "      <td>1</td>\n",
       "      <td>0.001153</td>\n",
       "    </tr>\n",
       "    <tr>\n",
       "      <th>1</th>\n",
       "      <td>0.619975</td>\n",
       "      <td>2.673335</td>\n",
       "      <td>3.582327</td>\n",
       "      <td>0</td>\n",
       "      <td>0</td>\n",
       "      <td>0.001866</td>\n",
       "    </tr>\n",
       "    <tr>\n",
       "      <th>2</th>\n",
       "      <td>2.422368</td>\n",
       "      <td>3.925465</td>\n",
       "      <td>6.461362</td>\n",
       "      <td>1</td>\n",
       "      <td>1</td>\n",
       "      <td>0.001866</td>\n",
       "    </tr>\n",
       "    <tr>\n",
       "      <th>3</th>\n",
       "      <td>-0.032314</td>\n",
       "      <td>0.599963</td>\n",
       "      <td>7.703891</td>\n",
       "      <td>1</td>\n",
       "      <td>1</td>\n",
       "      <td>0.003722</td>\n",
       "    </tr>\n",
       "    <tr>\n",
       "      <th>4</th>\n",
       "      <td>-0.426713</td>\n",
       "      <td>3.410179</td>\n",
       "      <td>5.007102</td>\n",
       "      <td>1</td>\n",
       "      <td>1</td>\n",
       "      <td>0.004268</td>\n",
       "    </tr>\n",
       "  </tbody>\n",
       "</table>\n",
       "</div>"
      ],
      "text/plain": [
       "         x1        x2        x3  y  pred     proba\n",
       "0 -1.999720  3.719734  4.617562  1     1  0.001153\n",
       "1  0.619975  2.673335  3.582327  0     0  0.001866\n",
       "2  2.422368  3.925465  6.461362  1     1  0.001866\n",
       "3 -0.032314  0.599963  7.703891  1     1  0.003722\n",
       "4 -0.426713  3.410179  5.007102  1     1  0.004268"
      ]
     },
     "execution_count": 10,
     "metadata": {},
     "output_type": "execute_result"
    }
   ],
   "source": [
    "df_test.head()"
   ]
  },
  {
   "cell_type": "code",
   "execution_count": 11,
   "id": "16bbeda0-e463-422c-be0c-4a51ebb00f15",
   "metadata": {
    "tags": []
   },
   "outputs": [],
   "source": [
    "Z = pd.read_csv(\"Z_classification.csv\", sep = \";\")"
   ]
  },
  {
   "cell_type": "code",
   "execution_count": 12,
   "id": "524a02cf-ece6-4869-aaf6-6025216b7e0c",
   "metadata": {
    "tags": []
   },
   "outputs": [
    {
     "data": {
      "text/html": [
       "<div>\n",
       "<style scoped>\n",
       "    .dataframe tbody tr th:only-of-type {\n",
       "        vertical-align: middle;\n",
       "    }\n",
       "\n",
       "    .dataframe tbody tr th {\n",
       "        vertical-align: top;\n",
       "    }\n",
       "\n",
       "    .dataframe thead th {\n",
       "        text-align: right;\n",
       "    }\n",
       "</style>\n",
       "<table border=\"1\" class=\"dataframe\">\n",
       "  <thead>\n",
       "    <tr style=\"text-align: right;\">\n",
       "      <th></th>\n",
       "      <th>x1</th>\n",
       "      <th>x2</th>\n",
       "      <th>x3</th>\n",
       "      <th>pred</th>\n",
       "      <th>proba</th>\n",
       "    </tr>\n",
       "  </thead>\n",
       "  <tbody>\n",
       "    <tr>\n",
       "      <th>0</th>\n",
       "      <td>-1.505888</td>\n",
       "      <td>3.164592</td>\n",
       "      <td>3.976233</td>\n",
       "      <td>1</td>\n",
       "      <td>0.000472</td>\n",
       "    </tr>\n",
       "    <tr>\n",
       "      <th>1</th>\n",
       "      <td>0.621893</td>\n",
       "      <td>3.750874</td>\n",
       "      <td>6.396892</td>\n",
       "      <td>1</td>\n",
       "      <td>0.000577</td>\n",
       "    </tr>\n",
       "    <tr>\n",
       "      <th>2</th>\n",
       "      <td>3.437573</td>\n",
       "      <td>4.605822</td>\n",
       "      <td>9.917134</td>\n",
       "      <td>1</td>\n",
       "      <td>0.002097</td>\n",
       "    </tr>\n",
       "    <tr>\n",
       "      <th>3</th>\n",
       "      <td>-2.361256</td>\n",
       "      <td>3.839147</td>\n",
       "      <td>5.481190</td>\n",
       "      <td>1</td>\n",
       "      <td>0.002693</td>\n",
       "    </tr>\n",
       "    <tr>\n",
       "      <th>4</th>\n",
       "      <td>-0.084735</td>\n",
       "      <td>3.285693</td>\n",
       "      <td>6.135092</td>\n",
       "      <td>1</td>\n",
       "      <td>0.002833</td>\n",
       "    </tr>\n",
       "  </tbody>\n",
       "</table>\n",
       "</div>"
      ],
      "text/plain": [
       "         x1        x2        x3  pred     proba\n",
       "0 -1.505888  3.164592  3.976233     1  0.000472\n",
       "1  0.621893  3.750874  6.396892     1  0.000577\n",
       "2  3.437573  4.605822  9.917134     1  0.002097\n",
       "3 -2.361256  3.839147  5.481190     1  0.002693\n",
       "4 -0.084735  3.285693  6.135092     1  0.002833"
      ]
     },
     "execution_count": 12,
     "metadata": {},
     "output_type": "execute_result"
    }
   ],
   "source": [
    "Z.head()"
   ]
  },
  {
   "cell_type": "markdown",
   "id": "d3b6b48c-ec7b-4f17-a0c9-3337f413ed57",
   "metadata": {},
   "source": [
    "### Calculates CSI for each feature"
   ]
  },
  {
   "cell_type": "code",
   "execution_count": 13,
   "id": "51d5b9bb-053b-4462-8a42-6ced2c1d1fc5",
   "metadata": {},
   "outputs": [],
   "source": [
    "sample_initial = df_test[['x1', 'x2', 'x3']]\n",
    "sample_new = Z[['x1', 'x2', 'x3']]"
   ]
  },
  {
   "cell_type": "code",
   "execution_count": 14,
   "id": "1150d7c0-585e-4546-9b29-91d6e3fd653b",
   "metadata": {
    "tags": []
   },
   "outputs": [
    {
     "name": "stdout",
     "output_type": "stream",
     "text": [
      "x1 -> csi=0.0010\n",
      "x2 -> csi=0.0407\n",
      "x3 -> csi=0.1641\n"
     ]
    },
    {
     "name": "stderr",
     "output_type": "stream",
     "text": [
      "C:\\Users\\dwaip\\AppData\\Local\\Temp\\ipykernel_18084\\61413233.py:25: FutureWarning: The default of observed=False is deprecated and will be changed to True in a future version of pandas. Pass observed=False to retain current behavior or observed=True to adopt the future default and silence this warning.\n",
      "  grp_initial = df_initial.groupby('bin').count()\n",
      "C:\\Users\\dwaip\\AppData\\Local\\Temp\\ipykernel_18084\\61413233.py:31: FutureWarning: The default of observed=False is deprecated and will be changed to True in a future version of pandas. Pass observed=False to retain current behavior or observed=True to adopt the future default and silence this warning.\n",
      "  grp_new = df_new.groupby('bin').count()\n",
      "C:\\Users\\dwaip\\AppData\\Local\\Temp\\ipykernel_18084\\61413233.py:25: FutureWarning: The default of observed=False is deprecated and will be changed to True in a future version of pandas. Pass observed=False to retain current behavior or observed=True to adopt the future default and silence this warning.\n",
      "  grp_initial = df_initial.groupby('bin').count()\n",
      "C:\\Users\\dwaip\\AppData\\Local\\Temp\\ipykernel_18084\\61413233.py:31: FutureWarning: The default of observed=False is deprecated and will be changed to True in a future version of pandas. Pass observed=False to retain current behavior or observed=True to adopt the future default and silence this warning.\n",
      "  grp_new = df_new.groupby('bin').count()\n",
      "C:\\Users\\dwaip\\AppData\\Local\\Temp\\ipykernel_18084\\61413233.py:25: FutureWarning: The default of observed=False is deprecated and will be changed to True in a future version of pandas. Pass observed=False to retain current behavior or observed=True to adopt the future default and silence this warning.\n",
      "  grp_initial = df_initial.groupby('bin').count()\n",
      "C:\\Users\\dwaip\\AppData\\Local\\Temp\\ipykernel_18084\\61413233.py:31: FutureWarning: The default of observed=False is deprecated and will be changed to True in a future version of pandas. Pass observed=False to retain current behavior or observed=True to adopt the future default and silence this warning.\n",
      "  grp_new = df_new.groupby('bin').count()\n"
     ]
    }
   ],
   "source": [
    "# Fixed\n",
    "for col in sample_initial.columns:\n",
    "    csi_values = psi(sample_initial[col].values, sample_new[col].values, num_bins = 10, mode = 'fixed')\n",
    "    csi = np.mean(csi_values)\n",
    "    print(f'{col} -> {csi=:.4f}')"
   ]
  },
  {
   "cell_type": "code",
   "execution_count": 15,
   "id": "5c8a358b-55f2-44e4-9a7e-d1f49961c8aa",
   "metadata": {
    "tags": []
   },
   "outputs": [
    {
     "name": "stdout",
     "output_type": "stream",
     "text": [
      "x1 -> csi=0.0016\n",
      "x2 -> csi=0.0408\n",
      "x3 -> csi=0.1302\n"
     ]
    },
    {
     "name": "stderr",
     "output_type": "stream",
     "text": [
      "C:\\Users\\dwaip\\AppData\\Local\\Temp\\ipykernel_18084\\61413233.py:25: FutureWarning: The default of observed=False is deprecated and will be changed to True in a future version of pandas. Pass observed=False to retain current behavior or observed=True to adopt the future default and silence this warning.\n",
      "  grp_initial = df_initial.groupby('bin').count()\n",
      "C:\\Users\\dwaip\\AppData\\Local\\Temp\\ipykernel_18084\\61413233.py:31: FutureWarning: The default of observed=False is deprecated and will be changed to True in a future version of pandas. Pass observed=False to retain current behavior or observed=True to adopt the future default and silence this warning.\n",
      "  grp_new = df_new.groupby('bin').count()\n",
      "C:\\Users\\dwaip\\AppData\\Local\\Temp\\ipykernel_18084\\61413233.py:25: FutureWarning: The default of observed=False is deprecated and will be changed to True in a future version of pandas. Pass observed=False to retain current behavior or observed=True to adopt the future default and silence this warning.\n",
      "  grp_initial = df_initial.groupby('bin').count()\n",
      "C:\\Users\\dwaip\\AppData\\Local\\Temp\\ipykernel_18084\\61413233.py:31: FutureWarning: The default of observed=False is deprecated and will be changed to True in a future version of pandas. Pass observed=False to retain current behavior or observed=True to adopt the future default and silence this warning.\n",
      "  grp_new = df_new.groupby('bin').count()\n",
      "C:\\Users\\dwaip\\AppData\\Local\\Temp\\ipykernel_18084\\61413233.py:25: FutureWarning: The default of observed=False is deprecated and will be changed to True in a future version of pandas. Pass observed=False to retain current behavior or observed=True to adopt the future default and silence this warning.\n",
      "  grp_initial = df_initial.groupby('bin').count()\n",
      "C:\\Users\\dwaip\\AppData\\Local\\Temp\\ipykernel_18084\\61413233.py:31: FutureWarning: The default of observed=False is deprecated and will be changed to True in a future version of pandas. Pass observed=False to retain current behavior or observed=True to adopt the future default and silence this warning.\n",
      "  grp_new = df_new.groupby('bin').count()\n"
     ]
    }
   ],
   "source": [
    "# Quantile\n",
    "for col in sample_initial.columns:\n",
    "    csi_values = psi(sample_initial[col].values, sample_new[col].values, num_bins = 10, mode = 'quantile')\n",
    "    csi = np.mean(csi_values)\n",
    "    print(f'{col} -> {csi=:.4f}')"
   ]
  }
 ],
 "metadata": {
  "kernelspec": {
   "display_name": "Python 3 (ipykernel)",
   "language": "python",
   "name": "python3"
  },
  "language_info": {
   "codemirror_mode": {
    "name": "ipython",
    "version": 3
   },
   "file_extension": ".py",
   "mimetype": "text/x-python",
   "name": "python",
   "nbconvert_exporter": "python",
   "pygments_lexer": "ipython3",
   "version": "3.12.4"
  }
 },
 "nbformat": 4,
 "nbformat_minor": 5
}
