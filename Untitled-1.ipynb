{
 "cells": [
  {
   "cell_type": "code",
   "execution_count": 2,
   "metadata": {},
   "outputs": [
    {
     "name": "stdout",
     "output_type": "stream",
     "text": [
      "<class 'pandas.core.frame.DataFrame'>\n",
      "RangeIndex: 220 entries, 0 to 219\n",
      "Data columns (total 3 columns):\n",
      " #   Column           Non-Null Count  Dtype\n",
      "---  ------           --------------  -----\n",
      " 0   unified_cust_id  220 non-null    int64\n",
      " 1   model_ver        220 non-null    int64\n",
      " 2   prediction_val   220 non-null    int64\n",
      "dtypes: int64(3)\n",
      "memory usage: 5.3 KB\n"
     ]
    }
   ],
   "source": [
    "import pandas as pd\n",
    "import numpy as np\n",
    "from scipy.stats import kstest, norm\n",
    "pd.set_option('display.max_columns', None)\n",
    "from datetime import datetime, timedelta\n",
    "\n",
    "# Get the current date\n",
    "current_date = datetime.now().strftime('%Y-%m-%d')\n",
    "\n",
    "# Calculate the date for df1 \n",
    "df1_date = (datetime.strptime(current_date, '%Y-%m-%d') - timedelta(days=8)).strftime('%Y-%m-%d')\n",
    "df1 = pd.read_csv(f'updated_dt={df1_date}.csv')\n",
    "df2 = pd.read_csv(f'updated_dt={current_date}.csv')\n",
    "\n",
    "\n",
    "\n",
    "# df1 = pd.read_csv('updated_dt=2024-06-10.csv')\n",
    "# df2 = pd.read_csv('updated_dt=2024-06-18.csv')\n",
    "\n",
    "df1.info()"
   ]
  },
  {
   "cell_type": "code",
   "execution_count": 3,
   "metadata": {},
   "outputs": [
    {
     "data": {
      "text/html": [
       "<div>\n",
       "<style scoped>\n",
       "    .dataframe tbody tr th:only-of-type {\n",
       "        vertical-align: middle;\n",
       "    }\n",
       "\n",
       "    .dataframe tbody tr th {\n",
       "        vertical-align: top;\n",
       "    }\n",
       "\n",
       "    .dataframe thead th {\n",
       "        text-align: right;\n",
       "    }\n",
       "</style>\n",
       "<table border=\"1\" class=\"dataframe\">\n",
       "  <thead>\n",
       "    <tr style=\"text-align: right;\">\n",
       "      <th></th>\n",
       "      <th>unified_cust_id</th>\n",
       "      <th>model_ver</th>\n",
       "      <th>prediction_val</th>\n",
       "    </tr>\n",
       "  </thead>\n",
       "  <tbody>\n",
       "    <tr>\n",
       "      <th>0</th>\n",
       "      <td>184839662</td>\n",
       "      <td>414999135</td>\n",
       "      <td>29</td>\n",
       "    </tr>\n",
       "    <tr>\n",
       "      <th>1</th>\n",
       "      <td>413700531</td>\n",
       "      <td>388186335</td>\n",
       "      <td>28</td>\n",
       "    </tr>\n",
       "    <tr>\n",
       "      <th>2</th>\n",
       "      <td>372859334</td>\n",
       "      <td>358360987</td>\n",
       "      <td>16</td>\n",
       "    </tr>\n",
       "    <tr>\n",
       "      <th>3</th>\n",
       "      <td>620201688</td>\n",
       "      <td>652135950</td>\n",
       "      <td>24</td>\n",
       "    </tr>\n",
       "    <tr>\n",
       "      <th>4</th>\n",
       "      <td>452136963</td>\n",
       "      <td>363126806</td>\n",
       "      <td>14</td>\n",
       "    </tr>\n",
       "    <tr>\n",
       "      <th>...</th>\n",
       "      <td>...</td>\n",
       "      <td>...</td>\n",
       "      <td>...</td>\n",
       "    </tr>\n",
       "    <tr>\n",
       "      <th>215</th>\n",
       "      <td>867093040</td>\n",
       "      <td>854209899</td>\n",
       "      <td>17</td>\n",
       "    </tr>\n",
       "    <tr>\n",
       "      <th>216</th>\n",
       "      <td>120726352</td>\n",
       "      <td>412529989</td>\n",
       "      <td>28</td>\n",
       "    </tr>\n",
       "    <tr>\n",
       "      <th>217</th>\n",
       "      <td>302885322</td>\n",
       "      <td>303930481</td>\n",
       "      <td>12</td>\n",
       "    </tr>\n",
       "    <tr>\n",
       "      <th>218</th>\n",
       "      <td>764461207</td>\n",
       "      <td>150059943</td>\n",
       "      <td>25</td>\n",
       "    </tr>\n",
       "    <tr>\n",
       "      <th>219</th>\n",
       "      <td>659829626</td>\n",
       "      <td>668515633</td>\n",
       "      <td>18</td>\n",
       "    </tr>\n",
       "  </tbody>\n",
       "</table>\n",
       "<p>220 rows × 3 columns</p>\n",
       "</div>"
      ],
      "text/plain": [
       "     unified_cust_id  model_ver  prediction_val\n",
       "0          184839662  414999135              29\n",
       "1          413700531  388186335              28\n",
       "2          372859334  358360987              16\n",
       "3          620201688  652135950              24\n",
       "4          452136963  363126806              14\n",
       "..               ...        ...             ...\n",
       "215        867093040  854209899              17\n",
       "216        120726352  412529989              28\n",
       "217        302885322  303930481              12\n",
       "218        764461207  150059943              25\n",
       "219        659829626  668515633              18\n",
       "\n",
       "[220 rows x 3 columns]"
      ]
     },
     "execution_count": 3,
     "metadata": {},
     "output_type": "execute_result"
    }
   ],
   "source": [
    "df1"
   ]
  },
  {
   "cell_type": "code",
   "execution_count": 4,
   "metadata": {},
   "outputs": [
    {
     "data": {
      "text/html": [
       "<div>\n",
       "<style scoped>\n",
       "    .dataframe tbody tr th:only-of-type {\n",
       "        vertical-align: middle;\n",
       "    }\n",
       "\n",
       "    .dataframe tbody tr th {\n",
       "        vertical-align: top;\n",
       "    }\n",
       "\n",
       "    .dataframe thead th {\n",
       "        text-align: right;\n",
       "    }\n",
       "</style>\n",
       "<table border=\"1\" class=\"dataframe\">\n",
       "  <thead>\n",
       "    <tr style=\"text-align: right;\">\n",
       "      <th></th>\n",
       "      <th>unified_cust_id</th>\n",
       "      <th>model_ver</th>\n",
       "      <th>prediction_val</th>\n",
       "    </tr>\n",
       "  </thead>\n",
       "  <tbody>\n",
       "    <tr>\n",
       "      <th>0</th>\n",
       "      <td>195129646</td>\n",
       "      <td>454430494</td>\n",
       "      <td>13</td>\n",
       "    </tr>\n",
       "    <tr>\n",
       "      <th>1</th>\n",
       "      <td>132735785</td>\n",
       "      <td>527771872</td>\n",
       "      <td>14</td>\n",
       "    </tr>\n",
       "    <tr>\n",
       "      <th>2</th>\n",
       "      <td>794275213</td>\n",
       "      <td>689971303</td>\n",
       "      <td>1</td>\n",
       "    </tr>\n",
       "    <tr>\n",
       "      <th>3</th>\n",
       "      <td>613607608</td>\n",
       "      <td>800580861</td>\n",
       "      <td>12</td>\n",
       "    </tr>\n",
       "    <tr>\n",
       "      <th>4</th>\n",
       "      <td>215107461</td>\n",
       "      <td>148856627</td>\n",
       "      <td>22</td>\n",
       "    </tr>\n",
       "    <tr>\n",
       "      <th>...</th>\n",
       "      <td>...</td>\n",
       "      <td>...</td>\n",
       "      <td>...</td>\n",
       "    </tr>\n",
       "    <tr>\n",
       "      <th>215</th>\n",
       "      <td>889703805</td>\n",
       "      <td>394657602</td>\n",
       "      <td>9</td>\n",
       "    </tr>\n",
       "    <tr>\n",
       "      <th>216</th>\n",
       "      <td>837030647</td>\n",
       "      <td>792453464</td>\n",
       "      <td>27</td>\n",
       "    </tr>\n",
       "    <tr>\n",
       "      <th>217</th>\n",
       "      <td>717917983</td>\n",
       "      <td>649967053</td>\n",
       "      <td>10</td>\n",
       "    </tr>\n",
       "    <tr>\n",
       "      <th>218</th>\n",
       "      <td>453755121</td>\n",
       "      <td>310139191</td>\n",
       "      <td>12</td>\n",
       "    </tr>\n",
       "    <tr>\n",
       "      <th>219</th>\n",
       "      <td>868548721</td>\n",
       "      <td>336736519</td>\n",
       "      <td>24</td>\n",
       "    </tr>\n",
       "  </tbody>\n",
       "</table>\n",
       "<p>220 rows × 3 columns</p>\n",
       "</div>"
      ],
      "text/plain": [
       "     unified_cust_id  model_ver  prediction_val\n",
       "0          195129646  454430494              13\n",
       "1          132735785  527771872              14\n",
       "2          794275213  689971303               1\n",
       "3          613607608  800580861              12\n",
       "4          215107461  148856627              22\n",
       "..               ...        ...             ...\n",
       "215        889703805  394657602               9\n",
       "216        837030647  792453464              27\n",
       "217        717917983  649967053              10\n",
       "218        453755121  310139191              12\n",
       "219        868548721  336736519              24\n",
       "\n",
       "[220 rows x 3 columns]"
      ]
     },
     "execution_count": 4,
     "metadata": {},
     "output_type": "execute_result"
    }
   ],
   "source": [
    "df2"
   ]
  },
  {
   "cell_type": "code",
   "execution_count": 2,
   "metadata": {},
   "outputs": [
    {
     "data": {
      "text/plain": [
       "0.9181589589609117"
      ]
     },
     "execution_count": 2,
     "metadata": {},
     "output_type": "execute_result"
    }
   ],
   "source": [
    "# Calculate the KS statistics, CSI and PSI\n",
    "ks_stat, ks_pvalue = kstest(df1['prediction_val'], 'norm')\n",
    "ks_stat"
   ]
  },
  {
   "cell_type": "code",
   "execution_count": 3,
   "metadata": {},
   "outputs": [
    {
     "data": {
      "text/plain": [
       "0.8863407771427299"
      ]
     },
     "execution_count": 3,
     "metadata": {},
     "output_type": "execute_result"
    }
   ],
   "source": [
    "ks_stat, ks_pvalue = kstest(df2['prediction_val'], 'norm')\n",
    "ks_stat"
   ]
  },
  {
   "cell_type": "code",
   "execution_count": 9,
   "metadata": {},
   "outputs": [
    {
     "data": {
      "text/plain": [
       "1.665336354069149"
      ]
     },
     "execution_count": 9,
     "metadata": {},
     "output_type": "execute_result"
    }
   ],
   "source": [
    "def psi(ref, curr):\n",
    "    ref = norm.fit(ref)\n",
    "    curr = norm.fit(curr)\n",
    "    psi = np.abs(ref[0] - curr[0]) + np.abs(ref[1] - curr[1])\n",
    "    return psi\n",
    "\n",
    "# Calculate PSI\n",
    "psi_value = psi(df1['prediction_val'].values, df2['prediction_val'].values)\n",
    "psi_value\n"
   ]
  },
  {
   "cell_type": "code",
   "execution_count": null,
   "metadata": {},
   "outputs": [],
   "source": []
  },
  {
   "cell_type": "code",
   "execution_count": 12,
   "metadata": {},
   "outputs": [],
   "source": [
    "# Calculate PSI by deciles\n",
    "psi_values = []\n",
    "for i in range(10):\n",
    "    ref_decile = df1[df1['prediction_val'].between(df1['prediction_val'].quantile(i/10), df1['prediction_val'].quantile((i+1)/10))]\n",
    "    curr_decile = df2[df2['prediction_val'].between(df2['prediction_val'].quantile(i/10), df2['prediction_val'].quantile((i+1)/10))]\n",
    "    psi_value = psi(ref_decile['prediction_val'].values, curr_decile['prediction_val'].values)\n",
    "    psi_values.append(psi_value)\n",
    "\n",
    "overall_psi = np.mean(psi_values)\n"
   ]
  },
  {
   "cell_type": "code",
   "execution_count": 13,
   "metadata": {},
   "outputs": [
    {
     "name": "stdout",
     "output_type": "stream",
     "text": [
      "PSI by deciles:\n",
      "Decile 1: 1.5032751975908512\n",
      "Decile 2: 0.8963952297270347\n",
      "Decile 3: 0.7778994884556376\n",
      "Decile 4: 0.5982223874772732\n",
      "Decile 5: 1.599231243347378\n",
      "Decile 6: 2.4198726978628184\n",
      "Decile 7: 2.143365929220825\n",
      "Decile 8: 3.557516720129366\n",
      "Decile 9: 2.7199520413048117\n",
      "Decile 10: 0.9555490709268044\n",
      "Overall PSI: 1.71712800060428\n"
     ]
    }
   ],
   "source": [
    "print(f'PSI by deciles:')\n",
    "for i in range(10):\n",
    "    print(f'Decile {i+1}: {psi_values[i]}')\n",
    "print(f'Overall PSI: {overall_psi}')"
   ]
  }
 ],
 "metadata": {
  "kernelspec": {
   "display_name": "Python 3 (ipykernel)",
   "language": "python",
   "name": "python3"
  },
  "language_info": {
   "codemirror_mode": {
    "name": "ipython",
    "version": 3
   },
   "file_extension": ".py",
   "mimetype": "text/x-python",
   "name": "python",
   "nbconvert_exporter": "python",
   "pygments_lexer": "ipython3",
   "version": "3.12.4"
  }
 },
 "nbformat": 4,
 "nbformat_minor": 4
}
