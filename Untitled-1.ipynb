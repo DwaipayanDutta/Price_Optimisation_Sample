{
 "cells": [
  {
   "cell_type": "code",
   "execution_count": 1,
   "metadata": {},
   "outputs": [
    {
     "name": "stdout",
     "output_type": "stream",
     "text": [
      "<class 'pandas.core.frame.DataFrame'>\n",
      "RangeIndex: 220 entries, 0 to 219\n",
      "Data columns (total 3 columns):\n",
      " #   Column           Non-Null Count  Dtype\n",
      "---  ------           --------------  -----\n",
      " 0   unified_cust_id  220 non-null    int64\n",
      " 1   model_ver        220 non-null    int64\n",
      " 2   prediction_val   220 non-null    int64\n",
      "dtypes: int64(3)\n",
      "memory usage: 5.3 KB\n"
     ]
    }
   ],
   "source": [
    "import pandas as pd\n",
    "import numpy as np\n",
    "from scipy.stats import kstest, norm\n",
    "pd.set_option('display.max_columns', None)\n",
    "df1 = pd.read_csv('updated_dt=2024-06-10.csv')\n",
    "df2 = pd.read_csv('updated_dt=2024-06-18.csv')\n",
    "\n",
    "df1.info()"
   ]
  },
  {
   "cell_type": "code",
   "execution_count": 2,
   "metadata": {},
   "outputs": [
    {
     "data": {
      "text/plain": [
       "0.9181589589609117"
      ]
     },
     "execution_count": 2,
     "metadata": {},
     "output_type": "execute_result"
    }
   ],
   "source": [
    "# Calculate the KS statistics, CSI and PSI\n",
    "ks_stat, ks_pvalue = kstest(df1['prediction_val'], 'norm')\n",
    "ks_stat"
   ]
  },
  {
   "cell_type": "code",
   "execution_count": 3,
   "metadata": {},
   "outputs": [
    {
     "data": {
      "text/plain": [
       "0.8863407771427299"
      ]
     },
     "execution_count": 3,
     "metadata": {},
     "output_type": "execute_result"
    }
   ],
   "source": [
    "ks_stat, ks_pvalue = kstest(df2['prediction_val'], 'norm')\n",
    "ks_stat"
   ]
  },
  {
   "cell_type": "code",
   "execution_count": 9,
   "metadata": {},
   "outputs": [
    {
     "data": {
      "text/plain": [
       "1.665336354069149"
      ]
     },
     "execution_count": 9,
     "metadata": {},
     "output_type": "execute_result"
    }
   ],
   "source": [
    "def psi(ref, curr):\n",
    "    ref = norm.fit(ref)\n",
    "    curr = norm.fit(curr)\n",
    "    psi = np.abs(ref[0] - curr[0]) + np.abs(ref[1] - curr[1])\n",
    "    return psi\n",
    "\n",
    "# Calculate PSI\n",
    "psi_value = psi(df1['prediction_val'].values, df2['prediction_val'].values)\n",
    "psi_value\n"
   ]
  },
  {
   "cell_type": "code",
   "execution_count": 12,
   "metadata": {},
   "outputs": [],
   "source": [
    "# Calculate PSI by deciles\n",
    "psi_values = []\n",
    "for i in range(10):\n",
    "    ref_decile = df1[df1['prediction_val'].between(df1['prediction_val'].quantile(i/10), df1['prediction_val'].quantile((i+1)/10))]\n",
    "    curr_decile = df2[df2['prediction_val'].between(df2['prediction_val'].quantile(i/10), df2['prediction_val'].quantile((i+1)/10))]\n",
    "    psi_value = psi(ref_decile['prediction_val'].values, curr_decile['prediction_val'].values)\n",
    "    psi_values.append(psi_value)\n",
    "\n",
    "overall_psi = np.mean(psi_values)\n"
   ]
  },
  {
   "cell_type": "code",
   "execution_count": 13,
   "metadata": {},
   "outputs": [
    {
     "name": "stdout",
     "output_type": "stream",
     "text": [
      "PSI by deciles:\n",
      "Decile 1: 1.5032751975908512\n",
      "Decile 2: 0.8963952297270347\n",
      "Decile 3: 0.7778994884556376\n",
      "Decile 4: 0.5982223874772732\n",
      "Decile 5: 1.599231243347378\n",
      "Decile 6: 2.4198726978628184\n",
      "Decile 7: 2.143365929220825\n",
      "Decile 8: 3.557516720129366\n",
      "Decile 9: 2.7199520413048117\n",
      "Decile 10: 0.9555490709268044\n",
      "Overall PSI: 1.71712800060428\n"
     ]
    }
   ],
   "source": [
    "print(f'PSI by deciles:')\n",
    "for i in range(10):\n",
    "    print(f'Decile {i+1}: {psi_values[i]}')\n",
    "print(f'Overall PSI: {overall_psi}')"
   ]
  }
 ],
 "metadata": {
  "kernelspec": {
   "display_name": "Python 3 (ipykernel)",
   "language": "python",
   "name": "python3"
  },
  "language_info": {
   "codemirror_mode": {
    "name": "ipython",
    "version": 3
   },
   "file_extension": ".py",
   "mimetype": "text/x-python",
   "name": "python",
   "nbconvert_exporter": "python",
   "pygments_lexer": "ipython3",
   "version": "3.12.4"
  }
 },
 "nbformat": 4,
 "nbformat_minor": 4
}
